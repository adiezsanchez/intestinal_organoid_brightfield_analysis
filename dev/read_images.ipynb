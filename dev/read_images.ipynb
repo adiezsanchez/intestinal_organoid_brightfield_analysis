{
 "cells": [
  {
   "cell_type": "code",
   "execution_count": 2,
   "metadata": {},
   "outputs": [],
   "source": [
    "from pathlib import Path\n",
    "import matplotlib.pyplot as plt\n",
    "import tifffile\n",
    "from skimage.color import rgb2gray\n",
    "from skimage import measure\n",
    "import napari\n",
    "from apoc import ObjectSegmenter, ObjectClassifier\n",
    "import pyclesperanto_prototype as cle  # version 0.24.1\n",
    "import numpy as np\n",
    "import napari_segment_blobs_and_things_with_membranes as nsbatwm  # version 0.3.6"
   ]
  },
  {
   "cell_type": "code",
   "execution_count": 8,
   "metadata": {},
   "outputs": [],
   "source": [
    "# Define the directory containing your files\n",
    "directory_path = Path(\"./data/2X z-stacks/Full_plate\")\n",
    "\n",
    "# Initialize a dictionary to store the grouped (per well) files\n",
    "images_per_well = {}\n",
    "\n",
    "# Iterate through the files in the directory\n",
    "for file_path in directory_path.glob('*.TIF'):\n",
    "    # Get the filename without the extension\n",
    "    filename = file_path.stem\n",
    "    \n",
    "    # Extract the last part of the filename (e.g., A06f00d0)\n",
    "    last_part = filename.split('_')[-1]\n",
    "    \n",
    "    # Get the first three letters to create the group name (well_id)\n",
    "    well_id = last_part[:3]\n",
    "    \n",
    "    # Check if the well_id exists in the dictionary, if not, create a new list\n",
    "    if well_id not in images_per_well:\n",
    "        images_per_well[well_id] = []\n",
    "    \n",
    "    # Append the file to the corresponding group\n",
    "    images_per_well[well_id].append(str(file_path))"
   ]
  },
  {
   "cell_type": "code",
   "execution_count": 9,
   "metadata": {},
   "outputs": [
    {
     "name": "stdout",
     "output_type": "stream",
     "text": [
      "Well A01:\n",
      "data\\2X z-stacks\\Full_plate\\D6_auto_Plate_M_p00_z00_0_A01f00d0.TIF\n",
      "data\\2X z-stacks\\Full_plate\\D6_auto_Plate_M_p00_z01_0_A01f00d0.TIF\n",
      "data\\2X z-stacks\\Full_plate\\D6_auto_Plate_M_p00_z02_0_A01f00d0.TIF\n",
      "data\\2X z-stacks\\Full_plate\\D6_auto_Plate_M_p00_z03_0_A01f00d0.TIF\n",
      "data\\2X z-stacks\\Full_plate\\D6_auto_Plate_M_p00_z04_0_A01f00d0.TIF\n",
      "data\\2X z-stacks\\Full_plate\\D6_auto_Plate_M_p00_z05_0_A01f00d0.TIF\n",
      "data\\2X z-stacks\\Full_plate\\D6_auto_Plate_M_p00_z06_0_A01f00d0.TIF\n",
      "data\\2X z-stacks\\Full_plate\\D6_auto_Plate_M_p00_z07_0_A01f00d0.TIF\n",
      "data\\2X z-stacks\\Full_plate\\D6_auto_Plate_M_p00_z08_0_A01f00d0.TIF\n",
      "data\\2X z-stacks\\Full_plate\\D6_auto_Plate_M_p00_z09_0_A01f00d0.TIF\n",
      "data\\2X z-stacks\\Full_plate\\D6_auto_Plate_M_p00_z10_0_A01f00d0.TIF\n",
      "Well A02:\n",
      "data\\2X z-stacks\\Full_plate\\D6_auto_Plate_M_p00_z00_0_A02f00d0.TIF\n",
      "data\\2X z-stacks\\Full_plate\\D6_auto_Plate_M_p00_z01_0_A02f00d0.TIF\n",
      "data\\2X z-stacks\\Full_plate\\D6_auto_Plate_M_p00_z02_0_A02f00d0.TIF\n",
      "data\\2X z-stacks\\Full_plate\\D6_auto_Plate_M_p00_z03_0_A02f00d0.TIF\n",
      "data\\2X z-stacks\\Full_plate\\D6_auto_Plate_M_p00_z04_0_A02f00d0.TIF\n",
      "data\\2X z-stacks\\Full_plate\\D6_auto_Plate_M_p00_z05_0_A02f00d0.TIF\n",
      "data\\2X z-stacks\\Full_plate\\D6_auto_Plate_M_p00_z06_0_A02f00d0.TIF\n",
      "data\\2X z-stacks\\Full_plate\\D6_auto_Plate_M_p00_z07_0_A02f00d0.TIF\n",
      "data\\2X z-stacks\\Full_plate\\D6_auto_Plate_M_p00_z08_0_A02f00d0.TIF\n",
      "data\\2X z-stacks\\Full_plate\\D6_auto_Plate_M_p00_z09_0_A02f00d0.TIF\n",
      "data\\2X z-stacks\\Full_plate\\D6_auto_Plate_M_p00_z10_0_A02f00d0.TIF\n",
      "Well A03:\n",
      "data\\2X z-stacks\\Full_plate\\D6_auto_Plate_M_p00_z00_0_A03f00d0.TIF\n",
      "data\\2X z-stacks\\Full_plate\\D6_auto_Plate_M_p00_z01_0_A03f00d0.TIF\n",
      "data\\2X z-stacks\\Full_plate\\D6_auto_Plate_M_p00_z02_0_A03f00d0.TIF\n",
      "data\\2X z-stacks\\Full_plate\\D6_auto_Plate_M_p00_z03_0_A03f00d0.TIF\n",
      "data\\2X z-stacks\\Full_plate\\D6_auto_Plate_M_p00_z04_0_A03f00d0.TIF\n",
      "data\\2X z-stacks\\Full_plate\\D6_auto_Plate_M_p00_z05_0_A03f00d0.TIF\n",
      "data\\2X z-stacks\\Full_plate\\D6_auto_Plate_M_p00_z06_0_A03f00d0.TIF\n",
      "data\\2X z-stacks\\Full_plate\\D6_auto_Plate_M_p00_z07_0_A03f00d0.TIF\n",
      "data\\2X z-stacks\\Full_plate\\D6_auto_Plate_M_p00_z08_0_A03f00d0.TIF\n",
      "data\\2X z-stacks\\Full_plate\\D6_auto_Plate_M_p00_z09_0_A03f00d0.TIF\n",
      "data\\2X z-stacks\\Full_plate\\D6_auto_Plate_M_p00_z10_0_A03f00d0.TIF\n",
      "Well A04:\n",
      "data\\2X z-stacks\\Full_plate\\D6_auto_Plate_M_p00_z00_0_A04f00d0.TIF\n",
      "data\\2X z-stacks\\Full_plate\\D6_auto_Plate_M_p00_z01_0_A04f00d0.TIF\n",
      "data\\2X z-stacks\\Full_plate\\D6_auto_Plate_M_p00_z02_0_A04f00d0.TIF\n",
      "data\\2X z-stacks\\Full_plate\\D6_auto_Plate_M_p00_z03_0_A04f00d0.TIF\n",
      "data\\2X z-stacks\\Full_plate\\D6_auto_Plate_M_p00_z04_0_A04f00d0.TIF\n",
      "data\\2X z-stacks\\Full_plate\\D6_auto_Plate_M_p00_z05_0_A04f00d0.TIF\n",
      "data\\2X z-stacks\\Full_plate\\D6_auto_Plate_M_p00_z06_0_A04f00d0.TIF\n",
      "data\\2X z-stacks\\Full_plate\\D6_auto_Plate_M_p00_z07_0_A04f00d0.TIF\n",
      "data\\2X z-stacks\\Full_plate\\D6_auto_Plate_M_p00_z08_0_A04f00d0.TIF\n",
      "data\\2X z-stacks\\Full_plate\\D6_auto_Plate_M_p00_z09_0_A04f00d0.TIF\n",
      "data\\2X z-stacks\\Full_plate\\D6_auto_Plate_M_p00_z10_0_A04f00d0.TIF\n",
      "Well A05:\n",
      "data\\2X z-stacks\\Full_plate\\D6_auto_Plate_M_p00_z00_0_A05f00d0.TIF\n",
      "data\\2X z-stacks\\Full_plate\\D6_auto_Plate_M_p00_z01_0_A05f00d0.TIF\n",
      "data\\2X z-stacks\\Full_plate\\D6_auto_Plate_M_p00_z02_0_A05f00d0.TIF\n",
      "data\\2X z-stacks\\Full_plate\\D6_auto_Plate_M_p00_z03_0_A05f00d0.TIF\n",
      "data\\2X z-stacks\\Full_plate\\D6_auto_Plate_M_p00_z04_0_A05f00d0.TIF\n",
      "data\\2X z-stacks\\Full_plate\\D6_auto_Plate_M_p00_z05_0_A05f00d0.TIF\n",
      "data\\2X z-stacks\\Full_plate\\D6_auto_Plate_M_p00_z06_0_A05f00d0.TIF\n",
      "data\\2X z-stacks\\Full_plate\\D6_auto_Plate_M_p00_z07_0_A05f00d0.TIF\n",
      "data\\2X z-stacks\\Full_plate\\D6_auto_Plate_M_p00_z08_0_A05f00d0.TIF\n",
      "data\\2X z-stacks\\Full_plate\\D6_auto_Plate_M_p00_z09_0_A05f00d0.TIF\n",
      "data\\2X z-stacks\\Full_plate\\D6_auto_Plate_M_p00_z10_0_A05f00d0.TIF\n",
      "Well A06:\n",
      "data\\2X z-stacks\\Full_plate\\D6_auto_Plate_M_p00_z00_0_A06f00d0.TIF\n",
      "data\\2X z-stacks\\Full_plate\\D6_auto_Plate_M_p00_z01_0_A06f00d0.TIF\n",
      "data\\2X z-stacks\\Full_plate\\D6_auto_Plate_M_p00_z02_0_A06f00d0.TIF\n",
      "data\\2X z-stacks\\Full_plate\\D6_auto_Plate_M_p00_z03_0_A06f00d0.TIF\n",
      "data\\2X z-stacks\\Full_plate\\D6_auto_Plate_M_p00_z04_0_A06f00d0.TIF\n",
      "data\\2X z-stacks\\Full_plate\\D6_auto_Plate_M_p00_z05_0_A06f00d0.TIF\n",
      "data\\2X z-stacks\\Full_plate\\D6_auto_Plate_M_p00_z06_0_A06f00d0.TIF\n",
      "data\\2X z-stacks\\Full_plate\\D6_auto_Plate_M_p00_z07_0_A06f00d0.TIF\n",
      "data\\2X z-stacks\\Full_plate\\D6_auto_Plate_M_p00_z08_0_A06f00d0.TIF\n",
      "data\\2X z-stacks\\Full_plate\\D6_auto_Plate_M_p00_z09_0_A06f00d0.TIF\n",
      "data\\2X z-stacks\\Full_plate\\D6_auto_Plate_M_p00_z10_0_A06f00d0.TIF\n",
      "Well B01:\n",
      "data\\2X z-stacks\\Full_plate\\D6_auto_Plate_M_p00_z00_0_B01f00d0.TIF\n",
      "data\\2X z-stacks\\Full_plate\\D6_auto_Plate_M_p00_z01_0_B01f00d0.TIF\n",
      "data\\2X z-stacks\\Full_plate\\D6_auto_Plate_M_p00_z02_0_B01f00d0.TIF\n",
      "data\\2X z-stacks\\Full_plate\\D6_auto_Plate_M_p00_z03_0_B01f00d0.TIF\n",
      "data\\2X z-stacks\\Full_plate\\D6_auto_Plate_M_p00_z04_0_B01f00d0.TIF\n",
      "data\\2X z-stacks\\Full_plate\\D6_auto_Plate_M_p00_z05_0_B01f00d0.TIF\n",
      "data\\2X z-stacks\\Full_plate\\D6_auto_Plate_M_p00_z06_0_B01f00d0.TIF\n",
      "data\\2X z-stacks\\Full_plate\\D6_auto_Plate_M_p00_z07_0_B01f00d0.TIF\n",
      "data\\2X z-stacks\\Full_plate\\D6_auto_Plate_M_p00_z08_0_B01f00d0.TIF\n",
      "data\\2X z-stacks\\Full_plate\\D6_auto_Plate_M_p00_z09_0_B01f00d0.TIF\n",
      "data\\2X z-stacks\\Full_plate\\D6_auto_Plate_M_p00_z10_0_B01f00d0.TIF\n",
      "Well B02:\n",
      "data\\2X z-stacks\\Full_plate\\D6_auto_Plate_M_p00_z00_0_B02f00d0.TIF\n",
      "data\\2X z-stacks\\Full_plate\\D6_auto_Plate_M_p00_z01_0_B02f00d0.TIF\n",
      "data\\2X z-stacks\\Full_plate\\D6_auto_Plate_M_p00_z02_0_B02f00d0.TIF\n",
      "data\\2X z-stacks\\Full_plate\\D6_auto_Plate_M_p00_z03_0_B02f00d0.TIF\n",
      "data\\2X z-stacks\\Full_plate\\D6_auto_Plate_M_p00_z04_0_B02f00d0.TIF\n",
      "data\\2X z-stacks\\Full_plate\\D6_auto_Plate_M_p00_z05_0_B02f00d0.TIF\n",
      "data\\2X z-stacks\\Full_plate\\D6_auto_Plate_M_p00_z06_0_B02f00d0.TIF\n",
      "data\\2X z-stacks\\Full_plate\\D6_auto_Plate_M_p00_z07_0_B02f00d0.TIF\n",
      "data\\2X z-stacks\\Full_plate\\D6_auto_Plate_M_p00_z08_0_B02f00d0.TIF\n",
      "data\\2X z-stacks\\Full_plate\\D6_auto_Plate_M_p00_z09_0_B02f00d0.TIF\n",
      "data\\2X z-stacks\\Full_plate\\D6_auto_Plate_M_p00_z10_0_B02f00d0.TIF\n",
      "Well B03:\n",
      "data\\2X z-stacks\\Full_plate\\D6_auto_Plate_M_p00_z00_0_B03f00d0.TIF\n",
      "data\\2X z-stacks\\Full_plate\\D6_auto_Plate_M_p00_z01_0_B03f00d0.TIF\n",
      "data\\2X z-stacks\\Full_plate\\D6_auto_Plate_M_p00_z02_0_B03f00d0.TIF\n",
      "data\\2X z-stacks\\Full_plate\\D6_auto_Plate_M_p00_z03_0_B03f00d0.TIF\n",
      "data\\2X z-stacks\\Full_plate\\D6_auto_Plate_M_p00_z04_0_B03f00d0.TIF\n",
      "data\\2X z-stacks\\Full_plate\\D6_auto_Plate_M_p00_z05_0_B03f00d0.TIF\n",
      "data\\2X z-stacks\\Full_plate\\D6_auto_Plate_M_p00_z06_0_B03f00d0.TIF\n",
      "data\\2X z-stacks\\Full_plate\\D6_auto_Plate_M_p00_z07_0_B03f00d0.TIF\n",
      "data\\2X z-stacks\\Full_plate\\D6_auto_Plate_M_p00_z08_0_B03f00d0.TIF\n",
      "data\\2X z-stacks\\Full_plate\\D6_auto_Plate_M_p00_z09_0_B03f00d0.TIF\n",
      "data\\2X z-stacks\\Full_plate\\D6_auto_Plate_M_p00_z10_0_B03f00d0.TIF\n",
      "Well B04:\n",
      "data\\2X z-stacks\\Full_plate\\D6_auto_Plate_M_p00_z00_0_B04f00d0.TIF\n",
      "data\\2X z-stacks\\Full_plate\\D6_auto_Plate_M_p00_z01_0_B04f00d0.TIF\n",
      "data\\2X z-stacks\\Full_plate\\D6_auto_Plate_M_p00_z02_0_B04f00d0.TIF\n",
      "data\\2X z-stacks\\Full_plate\\D6_auto_Plate_M_p00_z03_0_B04f00d0.TIF\n",
      "data\\2X z-stacks\\Full_plate\\D6_auto_Plate_M_p00_z04_0_B04f00d0.TIF\n",
      "data\\2X z-stacks\\Full_plate\\D6_auto_Plate_M_p00_z05_0_B04f00d0.TIF\n",
      "data\\2X z-stacks\\Full_plate\\D6_auto_Plate_M_p00_z06_0_B04f00d0.TIF\n",
      "data\\2X z-stacks\\Full_plate\\D6_auto_Plate_M_p00_z07_0_B04f00d0.TIF\n",
      "data\\2X z-stacks\\Full_plate\\D6_auto_Plate_M_p00_z08_0_B04f00d0.TIF\n",
      "data\\2X z-stacks\\Full_plate\\D6_auto_Plate_M_p00_z09_0_B04f00d0.TIF\n",
      "data\\2X z-stacks\\Full_plate\\D6_auto_Plate_M_p00_z10_0_B04f00d0.TIF\n",
      "Well B05:\n",
      "data\\2X z-stacks\\Full_plate\\D6_auto_Plate_M_p00_z00_0_B05f00d0.TIF\n",
      "data\\2X z-stacks\\Full_plate\\D6_auto_Plate_M_p00_z01_0_B05f00d0.TIF\n",
      "data\\2X z-stacks\\Full_plate\\D6_auto_Plate_M_p00_z02_0_B05f00d0.TIF\n",
      "data\\2X z-stacks\\Full_plate\\D6_auto_Plate_M_p00_z03_0_B05f00d0.TIF\n",
      "data\\2X z-stacks\\Full_plate\\D6_auto_Plate_M_p00_z04_0_B05f00d0.TIF\n",
      "data\\2X z-stacks\\Full_plate\\D6_auto_Plate_M_p00_z05_0_B05f00d0.TIF\n",
      "data\\2X z-stacks\\Full_plate\\D6_auto_Plate_M_p00_z06_0_B05f00d0.TIF\n",
      "data\\2X z-stacks\\Full_plate\\D6_auto_Plate_M_p00_z07_0_B05f00d0.TIF\n",
      "data\\2X z-stacks\\Full_plate\\D6_auto_Plate_M_p00_z08_0_B05f00d0.TIF\n",
      "data\\2X z-stacks\\Full_plate\\D6_auto_Plate_M_p00_z09_0_B05f00d0.TIF\n",
      "data\\2X z-stacks\\Full_plate\\D6_auto_Plate_M_p00_z10_0_B05f00d0.TIF\n",
      "Well B06:\n",
      "data\\2X z-stacks\\Full_plate\\D6_auto_Plate_M_p00_z00_0_B06f00d0.TIF\n",
      "data\\2X z-stacks\\Full_plate\\D6_auto_Plate_M_p00_z01_0_B06f00d0.TIF\n",
      "data\\2X z-stacks\\Full_plate\\D6_auto_Plate_M_p00_z02_0_B06f00d0.TIF\n",
      "data\\2X z-stacks\\Full_plate\\D6_auto_Plate_M_p00_z03_0_B06f00d0.TIF\n",
      "data\\2X z-stacks\\Full_plate\\D6_auto_Plate_M_p00_z04_0_B06f00d0.TIF\n",
      "data\\2X z-stacks\\Full_plate\\D6_auto_Plate_M_p00_z05_0_B06f00d0.TIF\n",
      "data\\2X z-stacks\\Full_plate\\D6_auto_Plate_M_p00_z06_0_B06f00d0.TIF\n",
      "data\\2X z-stacks\\Full_plate\\D6_auto_Plate_M_p00_z07_0_B06f00d0.TIF\n",
      "data\\2X z-stacks\\Full_plate\\D6_auto_Plate_M_p00_z08_0_B06f00d0.TIF\n",
      "data\\2X z-stacks\\Full_plate\\D6_auto_Plate_M_p00_z09_0_B06f00d0.TIF\n",
      "data\\2X z-stacks\\Full_plate\\D6_auto_Plate_M_p00_z10_0_B06f00d0.TIF\n",
      "Well C01:\n",
      "data\\2X z-stacks\\Full_plate\\D6_auto_Plate_M_p00_z00_0_C01f00d0.TIF\n",
      "data\\2X z-stacks\\Full_plate\\D6_auto_Plate_M_p00_z01_0_C01f00d0.TIF\n",
      "data\\2X z-stacks\\Full_plate\\D6_auto_Plate_M_p00_z02_0_C01f00d0.TIF\n",
      "data\\2X z-stacks\\Full_plate\\D6_auto_Plate_M_p00_z03_0_C01f00d0.TIF\n",
      "data\\2X z-stacks\\Full_plate\\D6_auto_Plate_M_p00_z04_0_C01f00d0.TIF\n",
      "data\\2X z-stacks\\Full_plate\\D6_auto_Plate_M_p00_z05_0_C01f00d0.TIF\n",
      "data\\2X z-stacks\\Full_plate\\D6_auto_Plate_M_p00_z06_0_C01f00d0.TIF\n",
      "data\\2X z-stacks\\Full_plate\\D6_auto_Plate_M_p00_z07_0_C01f00d0.TIF\n",
      "data\\2X z-stacks\\Full_plate\\D6_auto_Plate_M_p00_z08_0_C01f00d0.TIF\n",
      "data\\2X z-stacks\\Full_plate\\D6_auto_Plate_M_p00_z09_0_C01f00d0.TIF\n",
      "data\\2X z-stacks\\Full_plate\\D6_auto_Plate_M_p00_z10_0_C01f00d0.TIF\n",
      "Well C02:\n",
      "data\\2X z-stacks\\Full_plate\\D6_auto_Plate_M_p00_z00_0_C02f00d0.TIF\n",
      "data\\2X z-stacks\\Full_plate\\D6_auto_Plate_M_p00_z01_0_C02f00d0.TIF\n",
      "data\\2X z-stacks\\Full_plate\\D6_auto_Plate_M_p00_z02_0_C02f00d0.TIF\n",
      "data\\2X z-stacks\\Full_plate\\D6_auto_Plate_M_p00_z03_0_C02f00d0.TIF\n",
      "data\\2X z-stacks\\Full_plate\\D6_auto_Plate_M_p00_z04_0_C02f00d0.TIF\n",
      "data\\2X z-stacks\\Full_plate\\D6_auto_Plate_M_p00_z05_0_C02f00d0.TIF\n",
      "data\\2X z-stacks\\Full_plate\\D6_auto_Plate_M_p00_z06_0_C02f00d0.TIF\n",
      "data\\2X z-stacks\\Full_plate\\D6_auto_Plate_M_p00_z07_0_C02f00d0.TIF\n",
      "data\\2X z-stacks\\Full_plate\\D6_auto_Plate_M_p00_z08_0_C02f00d0.TIF\n",
      "data\\2X z-stacks\\Full_plate\\D6_auto_Plate_M_p00_z09_0_C02f00d0.TIF\n",
      "data\\2X z-stacks\\Full_plate\\D6_auto_Plate_M_p00_z10_0_C02f00d0.TIF\n",
      "Well C03:\n",
      "data\\2X z-stacks\\Full_plate\\D6_auto_Plate_M_p00_z00_0_C03f00d0.TIF\n",
      "data\\2X z-stacks\\Full_plate\\D6_auto_Plate_M_p00_z01_0_C03f00d0.TIF\n",
      "data\\2X z-stacks\\Full_plate\\D6_auto_Plate_M_p00_z02_0_C03f00d0.TIF\n",
      "data\\2X z-stacks\\Full_plate\\D6_auto_Plate_M_p00_z03_0_C03f00d0.TIF\n",
      "data\\2X z-stacks\\Full_plate\\D6_auto_Plate_M_p00_z04_0_C03f00d0.TIF\n",
      "data\\2X z-stacks\\Full_plate\\D6_auto_Plate_M_p00_z05_0_C03f00d0.TIF\n",
      "data\\2X z-stacks\\Full_plate\\D6_auto_Plate_M_p00_z06_0_C03f00d0.TIF\n",
      "data\\2X z-stacks\\Full_plate\\D6_auto_Plate_M_p00_z07_0_C03f00d0.TIF\n",
      "data\\2X z-stacks\\Full_plate\\D6_auto_Plate_M_p00_z08_0_C03f00d0.TIF\n",
      "data\\2X z-stacks\\Full_plate\\D6_auto_Plate_M_p00_z09_0_C03f00d0.TIF\n",
      "data\\2X z-stacks\\Full_plate\\D6_auto_Plate_M_p00_z10_0_C03f00d0.TIF\n",
      "Well C04:\n",
      "data\\2X z-stacks\\Full_plate\\D6_auto_Plate_M_p00_z00_0_C04f00d0.TIF\n",
      "data\\2X z-stacks\\Full_plate\\D6_auto_Plate_M_p00_z01_0_C04f00d0.TIF\n",
      "data\\2X z-stacks\\Full_plate\\D6_auto_Plate_M_p00_z02_0_C04f00d0.TIF\n",
      "data\\2X z-stacks\\Full_plate\\D6_auto_Plate_M_p00_z03_0_C04f00d0.TIF\n",
      "data\\2X z-stacks\\Full_plate\\D6_auto_Plate_M_p00_z04_0_C04f00d0.TIF\n",
      "data\\2X z-stacks\\Full_plate\\D6_auto_Plate_M_p00_z05_0_C04f00d0.TIF\n",
      "data\\2X z-stacks\\Full_plate\\D6_auto_Plate_M_p00_z06_0_C04f00d0.TIF\n",
      "data\\2X z-stacks\\Full_plate\\D6_auto_Plate_M_p00_z07_0_C04f00d0.TIF\n",
      "data\\2X z-stacks\\Full_plate\\D6_auto_Plate_M_p00_z08_0_C04f00d0.TIF\n",
      "data\\2X z-stacks\\Full_plate\\D6_auto_Plate_M_p00_z09_0_C04f00d0.TIF\n",
      "data\\2X z-stacks\\Full_plate\\D6_auto_Plate_M_p00_z10_0_C04f00d0.TIF\n",
      "Well C05:\n",
      "data\\2X z-stacks\\Full_plate\\D6_auto_Plate_M_p00_z00_0_C05f00d0.TIF\n",
      "data\\2X z-stacks\\Full_plate\\D6_auto_Plate_M_p00_z01_0_C05f00d0.TIF\n",
      "data\\2X z-stacks\\Full_plate\\D6_auto_Plate_M_p00_z02_0_C05f00d0.TIF\n",
      "data\\2X z-stacks\\Full_plate\\D6_auto_Plate_M_p00_z03_0_C05f00d0.TIF\n",
      "data\\2X z-stacks\\Full_plate\\D6_auto_Plate_M_p00_z04_0_C05f00d0.TIF\n",
      "data\\2X z-stacks\\Full_plate\\D6_auto_Plate_M_p00_z05_0_C05f00d0.TIF\n",
      "data\\2X z-stacks\\Full_plate\\D6_auto_Plate_M_p00_z06_0_C05f00d0.TIF\n",
      "data\\2X z-stacks\\Full_plate\\D6_auto_Plate_M_p00_z07_0_C05f00d0.TIF\n",
      "data\\2X z-stacks\\Full_plate\\D6_auto_Plate_M_p00_z08_0_C05f00d0.TIF\n",
      "data\\2X z-stacks\\Full_plate\\D6_auto_Plate_M_p00_z09_0_C05f00d0.TIF\n",
      "data\\2X z-stacks\\Full_plate\\D6_auto_Plate_M_p00_z10_0_C05f00d0.TIF\n",
      "Well C06:\n",
      "data\\2X z-stacks\\Full_plate\\D6_auto_Plate_M_p00_z00_0_C06f00d0.TIF\n",
      "data\\2X z-stacks\\Full_plate\\D6_auto_Plate_M_p00_z01_0_C06f00d0.TIF\n",
      "data\\2X z-stacks\\Full_plate\\D6_auto_Plate_M_p00_z02_0_C06f00d0.TIF\n",
      "data\\2X z-stacks\\Full_plate\\D6_auto_Plate_M_p00_z03_0_C06f00d0.TIF\n",
      "data\\2X z-stacks\\Full_plate\\D6_auto_Plate_M_p00_z04_0_C06f00d0.TIF\n",
      "data\\2X z-stacks\\Full_plate\\D6_auto_Plate_M_p00_z05_0_C06f00d0.TIF\n",
      "data\\2X z-stacks\\Full_plate\\D6_auto_Plate_M_p00_z06_0_C06f00d0.TIF\n",
      "data\\2X z-stacks\\Full_plate\\D6_auto_Plate_M_p00_z07_0_C06f00d0.TIF\n",
      "data\\2X z-stacks\\Full_plate\\D6_auto_Plate_M_p00_z08_0_C06f00d0.TIF\n",
      "data\\2X z-stacks\\Full_plate\\D6_auto_Plate_M_p00_z09_0_C06f00d0.TIF\n",
      "data\\2X z-stacks\\Full_plate\\D6_auto_Plate_M_p00_z10_0_C06f00d0.TIF\n",
      "Well D01:\n",
      "data\\2X z-stacks\\Full_plate\\D6_auto_Plate_M_p00_z00_0_D01f00d0.TIF\n",
      "data\\2X z-stacks\\Full_plate\\D6_auto_Plate_M_p00_z01_0_D01f00d0.TIF\n",
      "data\\2X z-stacks\\Full_plate\\D6_auto_Plate_M_p00_z02_0_D01f00d0.TIF\n",
      "data\\2X z-stacks\\Full_plate\\D6_auto_Plate_M_p00_z03_0_D01f00d0.TIF\n",
      "data\\2X z-stacks\\Full_plate\\D6_auto_Plate_M_p00_z04_0_D01f00d0.TIF\n",
      "data\\2X z-stacks\\Full_plate\\D6_auto_Plate_M_p00_z05_0_D01f00d0.TIF\n",
      "data\\2X z-stacks\\Full_plate\\D6_auto_Plate_M_p00_z06_0_D01f00d0.TIF\n",
      "data\\2X z-stacks\\Full_plate\\D6_auto_Plate_M_p00_z07_0_D01f00d0.TIF\n",
      "data\\2X z-stacks\\Full_plate\\D6_auto_Plate_M_p00_z08_0_D01f00d0.TIF\n",
      "data\\2X z-stacks\\Full_plate\\D6_auto_Plate_M_p00_z09_0_D01f00d0.TIF\n",
      "data\\2X z-stacks\\Full_plate\\D6_auto_Plate_M_p00_z10_0_D01f00d0.TIF\n",
      "Well D02:\n",
      "data\\2X z-stacks\\Full_plate\\D6_auto_Plate_M_p00_z00_0_D02f00d0.TIF\n",
      "data\\2X z-stacks\\Full_plate\\D6_auto_Plate_M_p00_z01_0_D02f00d0.TIF\n",
      "data\\2X z-stacks\\Full_plate\\D6_auto_Plate_M_p00_z02_0_D02f00d0.TIF\n",
      "data\\2X z-stacks\\Full_plate\\D6_auto_Plate_M_p00_z03_0_D02f00d0.TIF\n",
      "data\\2X z-stacks\\Full_plate\\D6_auto_Plate_M_p00_z04_0_D02f00d0.TIF\n",
      "data\\2X z-stacks\\Full_plate\\D6_auto_Plate_M_p00_z05_0_D02f00d0.TIF\n",
      "data\\2X z-stacks\\Full_plate\\D6_auto_Plate_M_p00_z06_0_D02f00d0.TIF\n",
      "data\\2X z-stacks\\Full_plate\\D6_auto_Plate_M_p00_z07_0_D02f00d0.TIF\n",
      "data\\2X z-stacks\\Full_plate\\D6_auto_Plate_M_p00_z08_0_D02f00d0.TIF\n",
      "data\\2X z-stacks\\Full_plate\\D6_auto_Plate_M_p00_z09_0_D02f00d0.TIF\n",
      "data\\2X z-stacks\\Full_plate\\D6_auto_Plate_M_p00_z10_0_D02f00d0.TIF\n",
      "Well D03:\n",
      "data\\2X z-stacks\\Full_plate\\D6_auto_Plate_M_p00_z00_0_D03f00d0.TIF\n",
      "data\\2X z-stacks\\Full_plate\\D6_auto_Plate_M_p00_z01_0_D03f00d0.TIF\n",
      "data\\2X z-stacks\\Full_plate\\D6_auto_Plate_M_p00_z02_0_D03f00d0.TIF\n",
      "data\\2X z-stacks\\Full_plate\\D6_auto_Plate_M_p00_z03_0_D03f00d0.TIF\n",
      "data\\2X z-stacks\\Full_plate\\D6_auto_Plate_M_p00_z04_0_D03f00d0.TIF\n",
      "data\\2X z-stacks\\Full_plate\\D6_auto_Plate_M_p00_z05_0_D03f00d0.TIF\n",
      "data\\2X z-stacks\\Full_plate\\D6_auto_Plate_M_p00_z06_0_D03f00d0.TIF\n",
      "data\\2X z-stacks\\Full_plate\\D6_auto_Plate_M_p00_z07_0_D03f00d0.TIF\n",
      "data\\2X z-stacks\\Full_plate\\D6_auto_Plate_M_p00_z08_0_D03f00d0.TIF\n",
      "data\\2X z-stacks\\Full_plate\\D6_auto_Plate_M_p00_z09_0_D03f00d0.TIF\n",
      "data\\2X z-stacks\\Full_plate\\D6_auto_Plate_M_p00_z10_0_D03f00d0.TIF\n",
      "Well D04:\n",
      "data\\2X z-stacks\\Full_plate\\D6_auto_Plate_M_p00_z00_0_D04f00d0.TIF\n",
      "data\\2X z-stacks\\Full_plate\\D6_auto_Plate_M_p00_z01_0_D04f00d0.TIF\n",
      "data\\2X z-stacks\\Full_plate\\D6_auto_Plate_M_p00_z02_0_D04f00d0.TIF\n",
      "data\\2X z-stacks\\Full_plate\\D6_auto_Plate_M_p00_z03_0_D04f00d0.TIF\n",
      "data\\2X z-stacks\\Full_plate\\D6_auto_Plate_M_p00_z04_0_D04f00d0.TIF\n",
      "data\\2X z-stacks\\Full_plate\\D6_auto_Plate_M_p00_z05_0_D04f00d0.TIF\n",
      "data\\2X z-stacks\\Full_plate\\D6_auto_Plate_M_p00_z06_0_D04f00d0.TIF\n",
      "data\\2X z-stacks\\Full_plate\\D6_auto_Plate_M_p00_z07_0_D04f00d0.TIF\n",
      "data\\2X z-stacks\\Full_plate\\D6_auto_Plate_M_p00_z08_0_D04f00d0.TIF\n",
      "data\\2X z-stacks\\Full_plate\\D6_auto_Plate_M_p00_z09_0_D04f00d0.TIF\n",
      "data\\2X z-stacks\\Full_plate\\D6_auto_Plate_M_p00_z10_0_D04f00d0.TIF\n",
      "Well D05:\n",
      "data\\2X z-stacks\\Full_plate\\D6_auto_Plate_M_p00_z00_0_D05f00d0.TIF\n",
      "data\\2X z-stacks\\Full_plate\\D6_auto_Plate_M_p00_z01_0_D05f00d0.TIF\n",
      "data\\2X z-stacks\\Full_plate\\D6_auto_Plate_M_p00_z02_0_D05f00d0.TIF\n",
      "data\\2X z-stacks\\Full_plate\\D6_auto_Plate_M_p00_z03_0_D05f00d0.TIF\n",
      "data\\2X z-stacks\\Full_plate\\D6_auto_Plate_M_p00_z04_0_D05f00d0.TIF\n",
      "data\\2X z-stacks\\Full_plate\\D6_auto_Plate_M_p00_z05_0_D05f00d0.TIF\n",
      "data\\2X z-stacks\\Full_plate\\D6_auto_Plate_M_p00_z06_0_D05f00d0.TIF\n",
      "data\\2X z-stacks\\Full_plate\\D6_auto_Plate_M_p00_z07_0_D05f00d0.TIF\n",
      "data\\2X z-stacks\\Full_plate\\D6_auto_Plate_M_p00_z08_0_D05f00d0.TIF\n",
      "data\\2X z-stacks\\Full_plate\\D6_auto_Plate_M_p00_z09_0_D05f00d0.TIF\n",
      "data\\2X z-stacks\\Full_plate\\D6_auto_Plate_M_p00_z10_0_D05f00d0.TIF\n",
      "Well D06:\n",
      "data\\2X z-stacks\\Full_plate\\D6_auto_Plate_M_p00_z00_0_D06f00d0.TIF\n",
      "data\\2X z-stacks\\Full_plate\\D6_auto_Plate_M_p00_z01_0_D06f00d0.TIF\n",
      "data\\2X z-stacks\\Full_plate\\D6_auto_Plate_M_p00_z02_0_D06f00d0.TIF\n",
      "data\\2X z-stacks\\Full_plate\\D6_auto_Plate_M_p00_z03_0_D06f00d0.TIF\n",
      "data\\2X z-stacks\\Full_plate\\D6_auto_Plate_M_p00_z04_0_D06f00d0.TIF\n",
      "data\\2X z-stacks\\Full_plate\\D6_auto_Plate_M_p00_z05_0_D06f00d0.TIF\n",
      "data\\2X z-stacks\\Full_plate\\D6_auto_Plate_M_p00_z06_0_D06f00d0.TIF\n",
      "data\\2X z-stacks\\Full_plate\\D6_auto_Plate_M_p00_z07_0_D06f00d0.TIF\n",
      "data\\2X z-stacks\\Full_plate\\D6_auto_Plate_M_p00_z08_0_D06f00d0.TIF\n",
      "data\\2X z-stacks\\Full_plate\\D6_auto_Plate_M_p00_z09_0_D06f00d0.TIF\n",
      "data\\2X z-stacks\\Full_plate\\D6_auto_Plate_M_p00_z10_0_D06f00d0.TIF\n"
     ]
    }
   ],
   "source": [
    "# This is just a check, it prints the grouped z-stacks\n",
    "for well_id, files in images_per_well.items():\n",
    "    print(f'Well {well_id}:')\n",
    "    for file_path in files:\n",
    "        print(file_path)"
   ]
  },
  {
   "cell_type": "code",
   "execution_count": 10,
   "metadata": {},
   "outputs": [
    {
     "data": {
      "text/plain": [
       "<Image layer 'Greyscale organoids' at 0x1ebd312e520>"
      ]
     },
     "execution_count": 10,
     "metadata": {},
     "output_type": "execute_result"
    }
   ],
   "source": [
    "# Load one RGB image and transform it into grayscale for APOC\n",
    "rgb_img = tifffile.imread(images_per_well[\"C04\"][5], is_ome = False)\n",
    "img = rgb2gray(rgb_img)\n",
    "viewer = napari.Viewer(ndisplay=2)\n",
    "viewer.add_image(img, name=\"Greyscale organoids\")"
   ]
  },
  {
   "cell_type": "code",
   "execution_count": 11,
   "metadata": {},
   "outputs": [
    {
     "data": {
      "text/plain": [
       "<Labels layer 'Pre-processed organoid labels' at 0x1ebeee98760>"
      ]
     },
     "execution_count": 11,
     "metadata": {},
     "output_type": "execute_result"
    }
   ],
   "source": [
    "# Apply object segmenter from APOC\n",
    "segmenter = ObjectSegmenter(opencl_filename=\"./ObjectSegmenter.cl\")\n",
    "result = segmenter.predict(image=img)\n",
    "viewer.add_labels(result, name=\"Pre-processed organoid labels\")"
   ]
  },
  {
   "cell_type": "code",
   "execution_count": 12,
   "metadata": {},
   "outputs": [
    {
     "data": {
      "text/plain": [
       "<Labels layer 'Closed organoid labels (clesperanto)' at 0x1ebf2836ca0>"
      ]
     },
     "execution_count": 12,
     "metadata": {},
     "output_type": "execute_result"
    }
   ],
   "source": [
    "# Closing some holes in the organoid labels\n",
    "closed_labels = cle.closing_labels(result, None, radius=4.0)\n",
    "# closed_labels = np.array(closed_labels, dtype=np.int32) # Change dtype of closed labels to feed array into nsbatwm.split\n",
    "viewer.add_labels(closed_labels, name='Closed organoid labels (clesperanto)')"
   ]
  },
  {
   "cell_type": "code",
   "execution_count": 13,
   "metadata": {},
   "outputs": [
    {
     "data": {
      "image/png": "[encoded data removed]",
      "text/plain": [
       "<Figure size 640x480 with 1 Axes>"
      ]
     },
     "metadata": {},
     "output_type": "display_data"
    }
   ],
   "source": [
    "# Calculate and plot the area of each object to select a threshold to remove small objects\n",
    "# and keep just the organoids\n",
    "props = measure.regionprops(closed_labels) # Calculate the area of each labeled object\n",
    "\n",
    "# Extract area values\n",
    "area_values = [prop.area for prop in props]\n",
    "\n",
    "# Create and display the histogram\n",
    "plt.hist(area_values, bins=30, color='b', alpha=0.7)\n",
    "plt.xlabel('Area (pixels)')\n",
    "plt.ylabel('Frequency')\n",
    "plt.title('Histogram of Object Areas')\n",
    "plt.grid(True)\n",
    "plt.show()"
   ]
  },
  {
   "cell_type": "code",
   "execution_count": 14,
   "metadata": {},
   "outputs": [
    {
     "data": {
      "text/plain": [
       "<Labels layer 'Excluded small labels (clesperanto)' at 0x1b4ba8aa820>"
      ]
     },
     "execution_count": 14,
     "metadata": {},
     "output_type": "execute_result"
    }
   ],
   "source": [
    "# Exclude small labels, cutout in pixel area seems to be below 1000px\n",
    "exclude_small = cle.exclude_small_labels(closed_labels, None, 1000.0)\n",
    "exclude_small = np.array(exclude_small, dtype=np.int32) # Change dtype of closed labels to feed array into nsbatwm.split\n",
    "viewer.add_labels(exclude_small, name='Excluded small labels (clesperanto)')\n"
   ]
  },
  {
   "cell_type": "code",
   "execution_count": 15,
   "metadata": {},
   "outputs": [
    {
     "data": {
      "text/plain": [
       "<Labels layer 'Splitted touching organoids (nsbatwm)' at 0x1b4adcec7c0>"
      ]
     },
     "execution_count": 15,
     "metadata": {},
     "output_type": "execute_result"
    }
   ],
   "source": [
    "# Splitting organoids into a binary mask\n",
    "split_organoids = nsbatwm.split_touching_objects(exclude_small, sigma=10.0)\n",
    "viewer.add_labels(split_organoids, name='Splitted touching organoids (nsbatwm)')"
   ]
  },
  {
   "cell_type": "code",
   "execution_count": 16,
   "metadata": {},
   "outputs": [
    {
     "data": {
      "text/plain": [
       "<Labels layer 'Connected component organoids (scikit-image, nsbatwm)' at 0x1b4addaf940>"
      ]
     },
     "execution_count": 16,
     "metadata": {},
     "output_type": "execute_result"
    }
   ],
   "source": [
    "# Connected component (cc) labeling\n",
    "cc_split_organoids = nsbatwm.connected_component_labeling(split_organoids, False)\n",
    "viewer.add_labels(cc_split_organoids, name='Connected component organoids (scikit-image, nsbatwm)')"
   ]
  },
  {
   "cell_type": "code",
   "execution_count": 17,
   "metadata": {},
   "outputs": [
    {
     "data": {
      "text/plain": [
       "<Labels layer 'Focus and out of focus organoids' at 0x1b4adb31310>"
      ]
     },
     "execution_count": 17,
     "metadata": {},
     "output_type": "execute_result"
    }
   ],
   "source": [
    "# Apply object classifier from APOC\n",
    "classifier = ObjectClassifier(opencl_filename=\"./ObjectClassifier.cl\")\n",
    "result = classifier.predict(labels=cc_split_organoids, image=img)\n",
    "viewer.add_labels(result, name=\"Focus and out of focus organoids\")\n"
   ]
  },
  {
   "cell_type": "code",
   "execution_count": null,
   "metadata": {},
   "outputs": [],
   "source": [
    "# Convert the resulting .cle image into a np.array to count objects within each class\n",
    "\n",
    "image_array = np.array(result, dtype=np.int8)\n",
    "# Create masks for each class\n",
    "background_mask = image_array == 0\n",
    "out_of_focus_mask = image_array == 1\n",
    "in_focus_mask = image_array == 2\n",
    "\n",
    "# Label connected components in each mask\n",
    "background_labels = measure.label(background_mask, connectivity=2)\n",
    "out_of_focus_labels = measure.label(out_of_focus_mask, connectivity=2)\n",
    "in_focus_labels = measure.label(in_focus_mask, connectivity=2)\n",
    "\n",
    "# Calculate the number of objects in each class\n",
    "num_background_objects = np.max(background_labels)\n",
    "num_out_of_focus_objects = np.max(out_of_focus_labels)\n",
    "num_in_focus_objects = np.max(in_focus_labels)\n",
    "\n",
    "print(f\"Number of Background Objects: {num_background_objects}\")\n",
    "print(f\"Number of Out-of-Focus Objects: {num_out_of_focus_objects}\")\n",
    "print(f\"Number of In-Focus Objects: {num_in_focus_objects}\")"
   ]
  }
 ],
 "metadata": {
  "kernelspec": {
   "display_name": "dbn39",
   "language": "python",
   "name": "python3"
  },
  "language_info": {
   "codemirror_mode": {
    "name": "ipython",
    "version": 3
   },
   "file_extension": ".py",
   "mimetype": "text/x-python",
   "name": "python",
   "nbconvert_exporter": "python",
   "pygments_lexer": "ipython3",
   "version": "3.9.18"
  },
  "orig_nbformat": 4
 },
 "nbformat": 4,
 "nbformat_minor": 2
}
