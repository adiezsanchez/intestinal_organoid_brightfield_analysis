{
 "cells": [
  {
   "cell_type": "code",
   "execution_count": 1,
   "metadata": {},
   "outputs": [],
   "source": [
    "from utils import read_images\n",
    "import pandas as pd\n",
    "import numpy as np\n",
    "import tifffile\n",
    "import pyclesperanto_prototype as cle  # version 0.24.1\n",
    "import napari_segment_blobs_and_things_with_membranes as nsbatwm  # version 0.3.6\n",
    "from skimage import measure\n",
    "from skimage.color import rgb2gray\n",
    "from apoc import ObjectSegmenter, ObjectClassifier\n",
    "from scipy import ndimage as ndi\n",
    "import napari"
   ]
  },
  {
   "cell_type": "code",
   "execution_count": 2,
   "metadata": {},
   "outputs": [],
   "source": [
    "# Define the directory containing your files\n",
    "directory_path =\"../data/test_data\"\n",
    "\n",
    "# The following function will read all the images contained within the directory_path above\n",
    "# and store them grouped by well_id.\n",
    "images_per_well = read_images(directory_path)"
   ]
  },
  {
   "cell_type": "code",
   "execution_count": 3,
   "metadata": {},
   "outputs": [
    {
     "name": "stdout",
     "output_type": "stream",
     "text": [
      "Well A01:\n",
      "..\\data\\test_data\\D6_auto_Plate_M_p00_z00_0_A01f00d0.TIF\n",
      "..\\data\\test_data\\D6_auto_Plate_M_p00_z01_0_A01f00d0.TIF\n",
      "..\\data\\test_data\\D6_auto_Plate_M_p00_z02_0_A01f00d0.TIF\n",
      "..\\data\\test_data\\D6_auto_Plate_M_p00_z03_0_A01f00d0.TIF\n",
      "..\\data\\test_data\\D6_auto_Plate_M_p00_z04_0_A01f00d0.TIF\n",
      "..\\data\\test_data\\D6_auto_Plate_M_p00_z05_0_A01f00d0.TIF\n",
      "..\\data\\test_data\\D6_auto_Plate_M_p00_z06_0_A01f00d0.TIF\n",
      "..\\data\\test_data\\D6_auto_Plate_M_p00_z07_0_A01f00d0.TIF\n",
      "..\\data\\test_data\\D6_auto_Plate_M_p00_z08_0_A01f00d0.TIF\n",
      "..\\data\\test_data\\D6_auto_Plate_M_p00_z09_0_A01f00d0.TIF\n",
      "..\\data\\test_data\\D6_auto_Plate_M_p00_z10_0_A01f00d0.TIF\n",
      "Well A02:\n",
      "..\\data\\test_data\\D6_auto_Plate_M_p00_z00_0_A02f00d0.TIF\n",
      "..\\data\\test_data\\D6_auto_Plate_M_p00_z01_0_A02f00d0.TIF\n",
      "..\\data\\test_data\\D6_auto_Plate_M_p00_z02_0_A02f00d0.TIF\n",
      "..\\data\\test_data\\D6_auto_Plate_M_p00_z03_0_A02f00d0.TIF\n",
      "..\\data\\test_data\\D6_auto_Plate_M_p00_z04_0_A02f00d0.TIF\n",
      "..\\data\\test_data\\D6_auto_Plate_M_p00_z05_0_A02f00d0.TIF\n",
      "..\\data\\test_data\\D6_auto_Plate_M_p00_z06_0_A02f00d0.TIF\n",
      "..\\data\\test_data\\D6_auto_Plate_M_p00_z07_0_A02f00d0.TIF\n",
      "..\\data\\test_data\\D6_auto_Plate_M_p00_z08_0_A02f00d0.TIF\n",
      "..\\data\\test_data\\D6_auto_Plate_M_p00_z09_0_A02f00d0.TIF\n",
      "..\\data\\test_data\\D6_auto_Plate_M_p00_z10_0_A02f00d0.TIF\n",
      "Well B04:\n",
      "..\\data\\test_data\\D6_auto_Plate_M_p00_z00_0_B04f00d0.TIF\n",
      "..\\data\\test_data\\D6_auto_Plate_M_p00_z01_0_B04f00d0.TIF\n",
      "..\\data\\test_data\\D6_auto_Plate_M_p00_z02_0_B04f00d0.TIF\n",
      "..\\data\\test_data\\D6_auto_Plate_M_p00_z03_0_B04f00d0.TIF\n",
      "..\\data\\test_data\\D6_auto_Plate_M_p00_z04_0_B04f00d0.TIF\n",
      "..\\data\\test_data\\D6_auto_Plate_M_p00_z05_0_B04f00d0.TIF\n",
      "..\\data\\test_data\\D6_auto_Plate_M_p00_z06_0_B04f00d0.TIF\n",
      "..\\data\\test_data\\D6_auto_Plate_M_p00_z07_0_B04f00d0.TIF\n",
      "..\\data\\test_data\\D6_auto_Plate_M_p00_z08_0_B04f00d0.TIF\n",
      "..\\data\\test_data\\D6_auto_Plate_M_p00_z09_0_B04f00d0.TIF\n",
      "..\\data\\test_data\\D6_auto_Plate_M_p00_z10_0_B04f00d0.TIF\n"
     ]
    }
   ],
   "source": [
    "# This is just a check, it prints the grouped z-stacks\n",
    "for well_id, files in images_per_well.items():\n",
    "    print(f'Well {well_id}:')\n",
    "    for file_path in files:\n",
    "        print(file_path)"
   ]
  },
  {
   "cell_type": "code",
   "execution_count": 4,
   "metadata": {},
   "outputs": [],
   "source": [
    "#TODO: Generate a unified label layer containing all in focus objects from each layer for further processing\n",
    "\n",
    "imgs_to_process = images_per_well[\"A01\"]\n",
    "\n",
    "all_in_focus_labels = []  # Store in-focus labels for merging\n",
    "\n",
    "for input_img in imgs_to_process:\n",
    "\n",
    "    # Load one RGB image and transform it into grayscale (if needed) for APOC\n",
    "    rgb_img = tifffile.imread(input_img, is_ome=False)\n",
    "    if len(rgb_img.shape) < 3:\n",
    "        img = rgb_img\n",
    "    elif rgb_img.shape[2] == 3:\n",
    "        img = rgb2gray(rgb_img)\n",
    "    else:\n",
    "        print(\n",
    "            \"Modify the loader to accommodate different file formats\",\n",
    "            rgb_img.shape,\n",
    "        )\n",
    "\n",
    "    # Apply object segmenter from APOC\n",
    "    try:\n",
    "        segmenter = ObjectSegmenter(opencl_filename=\"../ObjectSegmenter.cl\")\n",
    "        result = segmenter.predict(image=img)\n",
    "    except IndexError:\n",
    "        segmenter = ObjectSegmenter(\n",
    "            opencl_filename=\"../pretrained_APOC/ObjectSegmenter.cl\"\n",
    "        )\n",
    "        result = segmenter.predict(image=img)\n",
    "\n",
    "    # Closing some holes in the organoid labels\n",
    "    closed_labels = cle.closing_labels(result, None, radius=4.0)\n",
    "\n",
    "    # Exclude small labels, cutout in pixel area seems to be below 1000px\n",
    "    exclude_small = cle.exclude_small_labels(closed_labels, None, 1000.0)\n",
    "    exclude_small = np.array(\n",
    "        exclude_small, dtype=np.int32\n",
    "    )  # Change dtype of closed labels to feed array into nsbatwm.split\n",
    "\n",
    "    # Splitting organoids into a binary mask\n",
    "    split_organoids = nsbatwm.split_touching_objects(exclude_small, sigma=10.0)\n",
    "\n",
    "    # Connected component (cc) labeling\n",
    "    cc_split_organoids = nsbatwm.connected_component_labeling(\n",
    "        split_organoids, False\n",
    "    )\n",
    "\n",
    "    # Apply object classifier from APOC\n",
    "    try:\n",
    "        classifier = ObjectClassifier(opencl_filename=\"../ObjectClassifier.cl\")\n",
    "        result = classifier.predict(labels=cc_split_organoids, image=img)\n",
    "    except AttributeError:\n",
    "        classifier = ObjectClassifier(\n",
    "            opencl_filename=\"../pretrained_APOC/ObjectClassifier.cl\"\n",
    "        )\n",
    "        result = classifier.predict(labels=cc_split_organoids, image=img)\n",
    "\n",
    "    # Convert the resulting .cle image into a np.array to count objects within each class\n",
    "    image_array = np.array(result, dtype=np.int8)\n",
    "\n",
    "    # Create masks for each class\n",
    "    background_mask = image_array == 0\n",
    "    out_of_focus_mask = image_array == 1\n",
    "    in_focus_mask = image_array == 2\n",
    "\n",
    "    # Label connected components in each mask\n",
    "    background_labels = measure.label(background_mask, connectivity=2)\n",
    "    out_of_focus_labels = measure.label(out_of_focus_mask, connectivity=2)\n",
    "    in_focus_labels = measure.label(in_focus_mask, connectivity=2)\n",
    "    \n",
    "    # Store in-focus labels for merging\n",
    "    all_in_focus_labels.append(in_focus_labels)\n",
    "\n"
   ]
  },
  {
   "cell_type": "code",
   "execution_count": 5,
   "metadata": {},
   "outputs": [
    {
     "data": {
      "text/plain": [
       "dtype('int32')"
      ]
     },
     "execution_count": 5,
     "metadata": {},
     "output_type": "execute_result"
    }
   ],
   "source": [
    "all_in_focus_labels[0].dtype"
   ]
  },
  {
   "cell_type": "code",
   "execution_count": 8,
   "metadata": {},
   "outputs": [],
   "source": [
    "viewer = napari.Viewer(ndisplay=2)\n",
    "for in_focus_label in all_in_focus_labels:\n",
    "    viewer.add_labels(in_focus_label, name=\"In-focus organoids\")"
   ]
  },
  {
   "cell_type": "code",
   "execution_count": 7,
   "metadata": {},
   "outputs": [
    {
     "data": {
      "text/plain": [
       "<Labels layer 'In-focus organoids' at 0x1d526f55160>"
      ]
     },
     "execution_count": 7,
     "metadata": {},
     "output_type": "execute_result"
    },
    {
     "name": "stderr",
     "output_type": "stream",
     "text": [
      "<tifffile.TiffFile 'D6_auto_Plate_M_…_0_A01f00d0.TIF'> OME series cannot handle discontiguous storage ((1048, 1328, 3) != (1048, 1328))\n"
     ]
    }
   ],
   "source": [
    "viewer = napari.Viewer(ndisplay=2)\n",
    "viewer.add_labels(all_in_focus_labels[6], name=\"In-focus organoids\")"
   ]
  },
  {
   "cell_type": "code",
   "execution_count": null,
   "metadata": {},
   "outputs": [],
   "source": [
    "# TODO: Merge all labels from each well into a big image, so I can use dimensionality reduction and cluster plotter on one image.\n",
    "# TODO: Load in focus labels and greyscale images\n",
    "# TODO: Extract features, perform UMAP and clustering. See Napari Cluster plotter https://www.youtube.com/watch?v=qZ8KDrgL1Ro&t=877s&ab_channel=LIBREhub\n",
    "# TODO: Assign conditions, treatments to each well to display as hue in a pairplot https://umap-learn.readthedocs.io/en/latest/basic_usage.html"
   ]
  },
  {
   "cell_type": "code",
   "execution_count": 9,
   "metadata": {},
   "outputs": [],
   "source": [
    "# Define the directory containing your files\n",
    "directory_path =\"../output/Andrew/P1.2023-10-02-08-13-59/in_out_focus_masks\"\n",
    "\n",
    "# The following function will read all the images contained within the directory_path above\n",
    "# and store them grouped by well_id.\n",
    "images_per_well = read_images(directory_path)\n"
   ]
  },
  {
   "cell_type": "code",
   "execution_count": 10,
   "metadata": {},
   "outputs": [
    {
     "name": "stdout",
     "output_type": "stream",
     "text": [
      "Well A01:\n",
      "..\\output\\Andrew\\P1.2023-10-02-08-13-59\\in_out_focus_masks\\A01.tif\n",
      "Well A02:\n",
      "..\\output\\Andrew\\P1.2023-10-02-08-13-59\\in_out_focus_masks\\A02.tif\n",
      "Well A03:\n",
      "..\\output\\Andrew\\P1.2023-10-02-08-13-59\\in_out_focus_masks\\A03.tif\n",
      "Well A04:\n",
      "..\\output\\Andrew\\P1.2023-10-02-08-13-59\\in_out_focus_masks\\A04.tif\n",
      "Well A05:\n",
      "..\\output\\Andrew\\P1.2023-10-02-08-13-59\\in_out_focus_masks\\A05.tif\n",
      "Well A06:\n",
      "..\\output\\Andrew\\P1.2023-10-02-08-13-59\\in_out_focus_masks\\A06.tif\n",
      "Well B01:\n",
      "..\\output\\Andrew\\P1.2023-10-02-08-13-59\\in_out_focus_masks\\B01.tif\n",
      "Well B02:\n",
      "..\\output\\Andrew\\P1.2023-10-02-08-13-59\\in_out_focus_masks\\B02.tif\n",
      "Well B03:\n",
      "..\\output\\Andrew\\P1.2023-10-02-08-13-59\\in_out_focus_masks\\B03.tif\n",
      "Well B04:\n",
      "..\\output\\Andrew\\P1.2023-10-02-08-13-59\\in_out_focus_masks\\B04.tif\n",
      "Well B05:\n",
      "..\\output\\Andrew\\P1.2023-10-02-08-13-59\\in_out_focus_masks\\B05.tif\n",
      "Well B06:\n",
      "..\\output\\Andrew\\P1.2023-10-02-08-13-59\\in_out_focus_masks\\B06.tif\n",
      "Well C01:\n",
      "..\\output\\Andrew\\P1.2023-10-02-08-13-59\\in_out_focus_masks\\C01.tif\n",
      "Well C02:\n",
      "..\\output\\Andrew\\P1.2023-10-02-08-13-59\\in_out_focus_masks\\C02.tif\n",
      "Well C03:\n",
      "..\\output\\Andrew\\P1.2023-10-02-08-13-59\\in_out_focus_masks\\C03.tif\n",
      "Well C04:\n",
      "..\\output\\Andrew\\P1.2023-10-02-08-13-59\\in_out_focus_masks\\C04.tif\n",
      "Well C05:\n",
      "..\\output\\Andrew\\P1.2023-10-02-08-13-59\\in_out_focus_masks\\C05.tif\n",
      "Well C06:\n",
      "..\\output\\Andrew\\P1.2023-10-02-08-13-59\\in_out_focus_masks\\C06.tif\n",
      "Well D01:\n",
      "..\\output\\Andrew\\P1.2023-10-02-08-13-59\\in_out_focus_masks\\D01.tif\n",
      "Well D02:\n",
      "..\\output\\Andrew\\P1.2023-10-02-08-13-59\\in_out_focus_masks\\D02.tif\n",
      "Well D03:\n",
      "..\\output\\Andrew\\P1.2023-10-02-08-13-59\\in_out_focus_masks\\D03.tif\n",
      "Well D04:\n",
      "..\\output\\Andrew\\P1.2023-10-02-08-13-59\\in_out_focus_masks\\D04.tif\n",
      "Well D05:\n",
      "..\\output\\Andrew\\P1.2023-10-02-08-13-59\\in_out_focus_masks\\D05.tif\n",
      "Well D06:\n",
      "..\\output\\Andrew\\P1.2023-10-02-08-13-59\\in_out_focus_masks\\D06.tif\n"
     ]
    }
   ],
   "source": [
    "# This is just a check, it prints the grouped z-stacks\n",
    "for well_id, files in images_per_well.items():\n",
    "    print(f'Well {well_id}:')\n",
    "    for file_path in files:\n",
    "        print(file_path)"
   ]
  },
  {
   "cell_type": "code",
   "execution_count": 11,
   "metadata": {},
   "outputs": [
    {
     "data": {
      "text/plain": [
       "<Labels layer 'Focus classification' at 0x1d548cc0610>"
      ]
     },
     "execution_count": 11,
     "metadata": {},
     "output_type": "execute_result"
    }
   ],
   "source": [
    "imgs_to_process = images_per_well[\"A01\"]\n",
    "\n",
    "for input_img in imgs_to_process:\n",
    "\n",
    "    # Load one label\n",
    "    in_focus_label = tifffile.imread(input_img, is_ome=False)\n",
    "\n",
    "viewer = napari.Viewer(ndisplay=2)\n",
    "viewer.add_labels(in_focus_label, name=\"Focus classification\")\n",
    "\n",
    "#TODO: Extract the in focus organoids from in_focus_label and store them as a mask"
   ]
  }
 ],
 "metadata": {
  "kernelspec": {
   "display_name": "dbn39",
   "language": "python",
   "name": "python3"
  },
  "language_info": {
   "codemirror_mode": {
    "name": "ipython",
    "version": 3
   },
   "file_extension": ".py",
   "mimetype": "text/x-python",
   "name": "python",
   "nbconvert_exporter": "python",
   "pygments_lexer": "ipython3",
   "version": "3.9.18"
  }
 },
 "nbformat": 4,
 "nbformat_minor": 2
}
