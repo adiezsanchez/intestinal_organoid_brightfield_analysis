{
 "cells": [
  {
   "cell_type": "markdown",
   "metadata": {},
   "source": [
    "<h1>Find focus plane and store a copy of your in-focus images</h1>\n",
    "\n",
    "The following notebook scans your images folder, finds the z-stack with the most organoids in focus and stores a copy of said z-stack under <code>./output/in_focus_organoids</code>.\n",
    "\n",
    "It does so by using the ObjectSegmenter and ObjectClassifier files you obtained during training in the [1_train_and_setup](./1_train_and_setup.ipynb) Jupyter notebook. If you have not trained your own segmenter and classifiers it will use the ones contained in <code>./pretrained_APOC</code> by default."
   ]
  },
  {
   "cell_type": "code",
   "execution_count": null,
   "metadata": {},
   "outputs": [],
   "source": [
    "import pandas as pd\n",
    "import os \n",
    "\n",
    "from utils import read_images, find_focus, find_highest_infocus, store_imgs\n",
    "\n",
    "# Initialize GPU-acceleration if available\n",
    "import pyclesperanto_prototype as cle  # version 0.24.1\n",
    "device = cle.select_device(\"TX\")\n",
    "print(\"Used GPU: \", device)"
   ]
  },
  {
   "cell_type": "markdown",
   "metadata": {},
   "source": [
    "<h2>Where are your files stored?</h2>    \n",
    "\n",
    "Below you should **edit the directory** containing your acquired images (z-stacks). Easiest thing will be to copy the folder containing your images inside the <code>./data</code> directory."
   ]
  },
  {
   "cell_type": "code",
   "execution_count": null,
   "metadata": {},
   "outputs": [],
   "source": [
    "# Define the directory containing your files\n",
    "directory_path =\"./data/test_data/\"\n",
    "\n",
    "# The following function will read all the images contained within the directory_path above\n",
    "# and store them grouped by well_id.\n",
    "images_per_well = read_images(directory_path)"
   ]
  },
  {
   "cell_type": "code",
   "execution_count": null,
   "metadata": {},
   "outputs": [],
   "source": [
    "# This is just a check, it prints the grouped z-stacks\n",
    "for well_id, files in images_per_well.items():\n",
    "    print(f'Well {well_id}:')\n",
    "    for file_path in files:\n",
    "        print(file_path)"
   ]
  },
  {
   "cell_type": "markdown",
   "metadata": {},
   "source": [
    "<h2>Analyze your images</h2>\n",
    "\n",
    "The next cell will analyze your folder of images and compute the number of organoids in focus per image, it might take around 10 minutes if you do not have a GPU in your computer. Just be patient, there is a progress bar FYI."
   ]
  },
  {
   "cell_type": "code",
   "execution_count": null,
   "metadata": {},
   "outputs": [],
   "source": [
    "nr_infocus_organoids = find_focus(images_per_well)"
   ]
  },
  {
   "cell_type": "markdown",
   "metadata": {},
   "source": [
    "Below we will generate a pandas Dataframe that will contain the % of organoids in focus in each of our images and store it as a .csv file so we can load it again in case needed."
   ]
  },
  {
   "cell_type": "code",
   "execution_count": null,
   "metadata": {},
   "outputs": [],
   "source": [
    "# Create a Pandas DataFrame\n",
    "df = pd.DataFrame(nr_infocus_organoids)\n",
    "\n",
    "# Specify the directory path\n",
    "directory = \"./output\"\n",
    "\n",
    "# Check if the output directory already exists and create it if it does not\n",
    "try:\n",
    "    os.mkdir(directory)\n",
    "    print(f\"Directory '{directory}' created successfully.\")\n",
    "except FileExistsError:\n",
    "    print(f\"Directory '{directory}' already exists.\")\n",
    "\n",
    "# Save the DataFrame as a .csv file\n",
    "df.to_csv('./output/Percentage_in_focus_per_well.csv', index=False)\n",
    "\n",
    "# Display the DataFrame\n",
    "df"
   ]
  },
  {
   "cell_type": "code",
   "execution_count": null,
   "metadata": {},
   "outputs": [],
   "source": [
    "# Load the .csv and transform it into a dictionary again\n",
    "\n",
    "# Load the CSV file into a DataFrame\n",
    "df = pd.read_csv('./output/Percentage_in_focus_per_well.csv')\n",
    "\n",
    "# Convert the DataFrame to a dictionary\n",
    "nr_infocus_organoids = df.to_dict(orient='list')"
   ]
  },
  {
   "cell_type": "markdown",
   "metadata": {},
   "source": [
    "Now we will choose the image with the most organoids in focus and store a copy under <code>./output/in_focus_organoids</code>. To do so first we extract the position of the stack with the highest % of in-focus organoids and then we copy the files."
   ]
  },
  {
   "cell_type": "code",
   "execution_count": null,
   "metadata": {},
   "outputs": [],
   "source": [
    "# Finding the z-stack with the most organoids in-focus\n",
    "max_index_dict = find_highest_infocus(nr_infocus_organoids)\n",
    "print(max_index_dict)\n",
    "\n",
    "# In case one of the wells has no detectable organoids in focus, this will substitute the focal plane\n",
    "# with an average of all focal planes in the plate\n",
    "\n",
    "# Calculate the average of all values in the dictionary\n",
    "average_value = round(sum(max_index_dict.values()) / len(max_index_dict))\n",
    "\n",
    "# Substitute the 0 values for the average focal plane\n",
    "for well, in_focus_stack in max_index_dict.items():\n",
    "    if in_focus_stack == 0:\n",
    "        max_index_dict[well] = average_value\n",
    "\n",
    "print(max_index_dict)"
   ]
  },
  {
   "cell_type": "code",
   "execution_count": null,
   "metadata": {},
   "outputs": [],
   "source": [
    "# Storing a copy of each z-stack with the most organoids in focus\n",
    "store_imgs(images_per_well, max_index_dict)"
   ]
  }
 ],
 "metadata": {
  "kernelspec": {
   "display_name": "napari-devbio",
   "language": "python",
   "name": "python3"
  },
  "language_info": {
   "codemirror_mode": {
    "name": "ipython",
    "version": 3
   },
   "file_extension": ".py",
   "mimetype": "text/x-python",
   "name": "python",
   "nbconvert_exporter": "python",
   "pygments_lexer": "ipython3",
   "version": "3.9.18"
  },
  "orig_nbformat": 4
 },
 "nbformat": 4,
 "nbformat_minor": 2
}
