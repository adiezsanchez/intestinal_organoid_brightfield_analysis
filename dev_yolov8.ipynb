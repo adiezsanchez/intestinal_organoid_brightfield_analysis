{
 "cells": [
  {
   "cell_type": "code",
   "execution_count": 27,
   "metadata": {},
   "outputs": [],
   "source": [
    "from utils import read_images\n",
    "from skimage import io\n",
    "import numpy as np\n",
    "import napari\n",
    "import tifffile\n",
    "import os\n",
    "from pathlib import Path\n"
   ]
  },
  {
   "cell_type": "code",
   "execution_count": 28,
   "metadata": {},
   "outputs": [],
   "source": [
    "# Define the directory containing your files\n",
    "directory_path =\"./data/test_data/\"\n",
    "\n",
    "# The following function will read all the images contained within the directory_path above\n",
    "# and store them grouped by well_id.\n",
    "images_per_well = read_images(directory_path)"
   ]
  },
  {
   "cell_type": "code",
   "execution_count": null,
   "metadata": {},
   "outputs": [],
   "source": [
    "# This is just a check, it prints the grouped z-stacks\n",
    "for well_id, files in images_per_well.items():\n",
    "    print(f'Well {well_id}:')\n",
    "    for file_path in files:\n",
    "        print(file_path)"
   ]
  },
  {
   "cell_type": "code",
   "execution_count": 31,
   "metadata": {},
   "outputs": [],
   "source": [
    "def min_intensity_projection(image_paths):\n",
    "    \n",
    "    # Load images from the specified paths\n",
    "    image_collection = io.ImageCollection(image_paths)\n",
    "    # Stack images into a single 3D numpy array\n",
    "    stack = io.concatenate_images(image_collection)\n",
    "    # Perform minimum intensity projection along the z-axis (axis=0)\n",
    "    min_proj = np.min(stack, axis=0)\n",
    "    \n",
    "    return min_proj\n",
    "\n",
    "def save_min_projection_imgs(images_per_well, output_dir=\"./output/MIN_projections\"):\n",
    "    \n",
    "    for well_id, files in images_per_well.items():\n",
    "        # Perform minimum intensity projection of the stack stored under well_id key\n",
    "        min_proj = min_intensity_projection(images_per_well[well_id])\n",
    "        \n",
    "        # Create a directory to store the tif files if it doesn't exist\n",
    "        Path(output_dir).mkdir(parents=True, exist_ok=True)\n",
    "        \n",
    "        # Construct the output file path\n",
    "        output_path = os.path.join(output_dir, f\"MIN_{well_id}.tif\")\n",
    "        \n",
    "        # Save the resulting minimum projection\n",
    "        tifffile.imwrite(output_path, min_proj)"
   ]
  },
  {
   "cell_type": "code",
   "execution_count": 39,
   "metadata": {},
   "outputs": [],
   "source": [
    "save_min_projection_imgs(images_per_well)"
   ]
  }
 ],
 "metadata": {
  "kernelspec": {
   "display_name": "yolov8",
   "language": "python",
   "name": "python3"
  },
  "language_info": {
   "codemirror_mode": {
    "name": "ipython",
    "version": 3
   },
   "file_extension": ".py",
   "mimetype": "text/x-python",
   "name": "python",
   "nbconvert_exporter": "python",
   "pygments_lexer": "ipython3",
   "version": "3.9.18"
  }
 },
 "nbformat": 4,
 "nbformat_minor": 2
}
