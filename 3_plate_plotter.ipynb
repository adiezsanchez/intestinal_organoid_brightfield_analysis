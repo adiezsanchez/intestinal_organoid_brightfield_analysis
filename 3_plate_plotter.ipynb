{
 "cells": [
  {
   "cell_type": "markdown",
   "metadata": {},
   "source": [
    "<h1>Plate plotter</h1>\n",
    "\n",
    "The following notebook reads your extracted in-focus images folder and plots them in a grid like fashion according to their original position in the plate (well_id). Once you run this notebook you can find the plate images under <code>./output/output_plot.png</code>\n",
    "\n",
    "You can also plot your resulting object segmentations and visualize them along the entire plate in Napari."
   ]
  },
  {
   "cell_type": "code",
   "execution_count": null,
   "metadata": {},
   "outputs": [],
   "source": [
    "from utils import plot_plate, random_cmap, segment_organoids, save_object_mask, segment_in_focus_organoids\n",
    "from pathlib import Path\n",
    "import tifffile\n",
    "import napari\n",
    "from napari.utils import nbscreenshot\n",
    "from matplotlib.colors import ListedColormap\n",
    "\n",
    "# Initialize GPU-acceleration if available\n",
    "import pyclesperanto_prototype as cle  # version 0.24.1\n",
    "device = cle.select_device(\"TX\")\n",
    "print(\"Used GPU: \", device)"
   ]
  },
  {
   "cell_type": "markdown",
   "metadata": {},
   "source": [
    "You can modify the resolution at which the output plate image is stored (by default 300 dpi, you can increase it according to your needs). Remember the higher dpi the higher space in disk."
   ]
  },
  {
   "cell_type": "code",
   "execution_count": null,
   "metadata": {},
   "outputs": [],
   "source": [
    "# Define the resolution at which you want to plot your plates\n",
    "plot_resolution=300"
   ]
  },
  {
   "cell_type": "code",
   "execution_count": null,
   "metadata": {},
   "outputs": [],
   "source": [
    "plot_plate(\n",
    "    resolution=plot_resolution,\n",
    "    output_path=\"./output/organoid_greyscale_plot.tif\",\n",
    "    img_folder_path=\"./output/in_focus_organoids/\",\n",
    "    )"
   ]
  },
  {
   "cell_type": "markdown",
   "metadata": {},
   "source": [
    "<h2>Label visualization</h2>\n",
    "\n",
    "You can also apply the trained classifiers for organoid object and organoid in-focus detection to visualize them in the same grid-like fashion"
   ]
  },
  {
   "cell_type": "code",
   "execution_count": null,
   "metadata": {},
   "outputs": [],
   "source": [
    "# Define the directory path where your in-focus organoid z-stack have been stored (\"./output/in_focus_organoids/\" by default)\n",
    "in_focus_organoids = Path(\"./output/in_focus_organoids/\")\n",
    "\n",
    "# segment_organoids() returns a dictionary where the organoid labels are stored under each well_id key\n",
    "segmented_organoids = segment_organoids(in_focus_organoids)"
   ]
  },
  {
   "cell_type": "code",
   "execution_count": null,
   "metadata": {},
   "outputs": [],
   "source": [
    "# Define the directory path where you want to save the segmented organoid masks\n",
    "output_directory = \"./output/segmented_organoids/\"\n",
    "\n",
    "# Save the segmented organoid masks contained in segmented_organoids in the above defined output directory\n",
    "save_object_mask(segmented_organoids, output_directory)"
   ]
  },
  {
   "cell_type": "markdown",
   "metadata": {},
   "source": [
    "By running the cell below you can visualize the segmented organoid mask in the same plateview as the greyscale images."
   ]
  },
  {
   "cell_type": "code",
   "execution_count": null,
   "metadata": {},
   "outputs": [],
   "source": [
    "cmap = random_cmap()\n",
    "\n",
    "plot_plate(\n",
    "    resolution=plot_resolution,\n",
    "    output_path=\"./output/organoid_object_plot.tif\",\n",
    "    img_folder_path=\"./output/segmented_organoids/\",\n",
    "    colormap=cmap\n",
    "    )"
   ]
  },
  {
   "cell_type": "markdown",
   "metadata": {},
   "source": [
    "Now let's do the same for the in-focus out-of-focus objects to see if we managed to detect them correctly across all wells."
   ]
  },
  {
   "cell_type": "code",
   "execution_count": null,
   "metadata": {},
   "outputs": [],
   "source": [
    "# Define the directory path where your in-focus organoid z-stack have been stored (\"./output/in_focus_organoids/\" by default)\n",
    "in_focus_organoids = Path(\"./output/in_focus_organoids/\")\n",
    "\n",
    "# segment_in_focus_organoids() returns a dictionary where the organoid labels are stored under each well_id key\n",
    "segmented_in_focus_organoids = segment_in_focus_organoids(in_focus_organoids)"
   ]
  },
  {
   "cell_type": "code",
   "execution_count": null,
   "metadata": {},
   "outputs": [],
   "source": [
    "# Define the directory path where you want to save the segmented organoid masks\n",
    "output_focus_directory = \"./output/in_out_focus_masks/\"\n",
    "\n",
    "# Save the in-focus segmented organoid masks contained in segmented_in_focus_organoids in the above defined output directory\n",
    "save_object_mask(segmented_in_focus_organoids, output_focus_directory)"
   ]
  },
  {
   "cell_type": "markdown",
   "metadata": {},
   "source": [
    "By running the cell below you can visualize the segmented organoid focus mask in the same plateview as the greyscale images."
   ]
  },
  {
   "cell_type": "code",
   "execution_count": null,
   "metadata": {},
   "outputs": [],
   "source": [
    "# Define the colors for each value\n",
    "colors = [(0, 0, 0, 0),  # Transparent for 0\n",
    "          (0.647, 0.165, 0.165, 1),  # Brown for 1 (out of focus)\n",
    "          (0.678, 0.847, 0.902, 1)]  # Light blue for 2 (in focus)\n",
    "\n",
    "# Create a colormap using ListedColormap\n",
    "custom_cmap = ListedColormap(colors)\n",
    "\n",
    "plot_plate(\n",
    "    resolution=plot_resolution,\n",
    "    output_path=\"./output/organoid_focus_masks_plot.tif\",\n",
    "    img_folder_path=\"./output/in_out_focus_masks/\",\n",
    "    colormap=custom_cmap\n",
    "    )"
   ]
  },
  {
   "cell_type": "markdown",
   "metadata": {},
   "source": [
    "<h2>Napari visualization</h2>\n",
    "By running the cells below you should be able to explore the greyscale images and segmentations layered on top of each other to fine tune your pipeline at a plate scale"
   ]
  },
  {
   "cell_type": "code",
   "execution_count": null,
   "metadata": {},
   "outputs": [],
   "source": [
    "greyscale_plate = tifffile.imread(\"./output/organoid_greyscale_plot.tif\")\n",
    "organoid_object_plate = tifffile.imread(\"./output/organoid_object_plot.tif\")\n",
    "in_focus_organoids_object_plate = tifffile.imread(\"./output/organoid_focus_masks_plot.tif\")\n",
    "\n",
    "\n",
    "viewer = napari.Viewer(ndisplay=2)\n",
    "viewer.add_image(greyscale_plate, name=\"Greyscale organoids\")\n",
    "viewer.add_image(organoid_object_plate, name=\"Object segmentation\")\n",
    "viewer.add_image(in_focus_organoids_object_plate, name=\"Focus classification\")\n",
    "nbscreenshot(viewer)"
   ]
  },
  {
   "cell_type": "markdown",
   "metadata": {},
   "source": [
    "Additionally you can explore the plate on a well per well basis i.e. <code>[\"A01\"]</code> "
   ]
  },
  {
   "cell_type": "code",
   "execution_count": null,
   "metadata": {},
   "outputs": [],
   "source": [
    "# Define the well you want to explore and hit run.\n",
    "well_id = \"A01\"\n",
    "\n",
    "greyscale = tifffile.imread(f\"./output/in_focus_organoids/{well_id}.tif\", is_ome=False)\n",
    "organoid_object = tifffile.imread(f\"./output/segmented_organoids/{well_id}.tif\", is_ome=False)\n",
    "organoid_focus = tifffile.imread(f\"./output/in_out_focus_masks/{well_id}.tif\", is_ome=False)\n",
    "\n",
    "viewer = napari.Viewer(ndisplay=2)\n",
    "viewer.add_image(greyscale, name=\"Greyscale organoids\")\n",
    "viewer.add_labels(organoid_object, name=\"Object segmentation\")\n",
    "viewer.add_labels(organoid_focus, name=\"Focus classification\")\n",
    "nbscreenshot(viewer)"
   ]
  }
 ],
 "metadata": {
  "kernelspec": {
   "display_name": "napari-devbio",
   "language": "python",
   "name": "python3"
  },
  "language_info": {
   "codemirror_mode": {
    "name": "ipython",
    "version": 3
   },
   "file_extension": ".py",
   "mimetype": "text/x-python",
   "name": "python",
   "nbconvert_exporter": "python",
   "pygments_lexer": "ipython3",
   "version": "3.9.18"
  },
  "orig_nbformat": 4
 },
 "nbformat": 4,
 "nbformat_minor": 2
}
